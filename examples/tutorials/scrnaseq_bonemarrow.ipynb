{
 "cells": [
  {
   "cell_type": "code",
   "execution_count": 1,
   "id": "53bc4a0a-948f-40b8-9ec5-c4bde0988cfd",
   "metadata": {},
   "outputs": [],
   "source": [
    "# Test the tool on single-cell rnaseq data from bone marrow "
   ]
  },
  {
   "cell_type": "code",
   "execution_count": 2,
   "id": "36ca418c-0026-409d-9404-9c2510f98b30",
   "metadata": {},
   "outputs": [
    {
     "name": "stderr",
     "output_type": "stream",
     "text": [
      "Global seed set to 42\n",
      "Global seed set to 42\n",
      "Global seed set to 42\n",
      "Global seed set to 42\n",
      "Global seed set to 42\n"
     ]
    }
   ],
   "source": [
    "import flexynesis \n",
    "import torch, os\n",
    "torch.set_num_threads(4)"
   ]
  },
  {
   "cell_type": "code",
   "execution_count": 3,
   "id": "27d01488-70a5-4f4e-9d25-8e258550f253",
   "metadata": {
    "tags": [
     "parameters"
    ]
   },
   "outputs": [],
   "source": [
    "# parameters cell (required to pass arguments to the notebook) (see View -> show right sidebar -> add tag -> parameters)\n",
    "HPO_ITER = 20 # number of HPO iterations for final modeling run"
   ]
  },
  {
   "cell_type": "code",
   "execution_count": 7,
   "id": "31189edf-56a1-4eaa-beeb-ce8c7f2c2f50",
   "metadata": {},
   "outputs": [
    {
     "name": "stdout",
     "output_type": "stream",
     "text": [
      "--2024-02-28 16:44:37--  https://bimsbstatic.mdc-berlin.de/akalin/buyar/flexynesis-benchmark-datasets/singlecell_bonemarrow.tgz\n",
      "Resolving bimsbstatic.mdc-berlin.de (bimsbstatic.mdc-berlin.de)... 141.80.181.47, 141.80.181.46\n",
      "Connecting to bimsbstatic.mdc-berlin.de (bimsbstatic.mdc-berlin.de)|141.80.181.47|:443... connected.\n",
      "HTTP request sent, awaiting response... 200 OK\n",
      "Length: 110733916 (106M) [application/octet-stream]\n",
      "Saving to: ‘singlecell_bonemarrow.tgz’\n",
      "\n",
      "singlecell_bonemarr 100%[===================>] 105.60M  64.4MB/s    in 1.6s    \n",
      "\n",
      "2024-02-28 16:44:39 (64.4 MB/s) - ‘singlecell_bonemarrow.tgz’ saved [110733916/110733916]\n",
      "\n",
      "singlecell_bonemarrow/\n",
      "singlecell_bonemarrow/9606.protein.aliases.v12.0.txt\n",
      "singlecell_bonemarrow/9606.protein.links.v12.0.txt\n",
      "singlecell_bonemarrow/test/\n",
      "singlecell_bonemarrow/test/clin.csv\n",
      "singlecell_bonemarrow/test/ADT.csv\n",
      "singlecell_bonemarrow/test/RNA.csv\n",
      "singlecell_bonemarrow/train/\n",
      "singlecell_bonemarrow/train/ADT.csv\n",
      "singlecell_bonemarrow/train/RNA.csv\n",
      "singlecell_bonemarrow/train/clin.csv\n"
     ]
    }
   ],
   "source": [
    "if not os.path.exists(\"singlecell_bonemarrow\"):\n",
    "    !wget -O singlecell_bonemarrow.tgz \"https://bimsbstatic.mdc-berlin.de/akalin/buyar/flexynesis-benchmark-datasets/singlecell_bonemarrow.tgz\" && tar -xzvf singlecell_bonemarrow.tgz"
   ]
  },
  {
   "cell_type": "code",
   "execution_count": 9,
   "id": "caa2b75a-690f-48de-8f2a-23df13763356",
   "metadata": {},
   "outputs": [
    {
     "name": "stdout",
     "output_type": "stream",
     "text": [
      "\n",
      "[INFO] ================= Importing Data =================\n",
      "[INFO] Validating data folders...\n",
      "\n",
      "[INFO] ----------------- Reading Data ----------------- \n",
      "[INFO] Importing singlecell_bonemarrow/train/clin.csv...\n",
      "[INFO] Importing singlecell_bonemarrow/train/RNA.csv...\n",
      "[INFO] Importing singlecell_bonemarrow/train/ADT.csv...\n",
      "\n",
      "[INFO] ----------------- Reading Data ----------------- \n",
      "[INFO] Importing singlecell_bonemarrow/test/clin.csv...\n",
      "[INFO] Importing singlecell_bonemarrow/test/RNA.csv...\n",
      "[INFO] Importing singlecell_bonemarrow/test/ADT.csv...\n",
      "\n",
      "[INFO] ----------------- Checking for problems with the input data ----------------- \n",
      "[INFO] Data structure is valid with no errors or warnings.\n",
      "\n",
      "[INFO] ----------------- Processing Data (train) ----------------- \n",
      "\n",
      "[INFO] ----------------- Cleaning Up Data ----------------- \n",
      "[INFO] Number of NA values:  0\n",
      "[INFO] DataFrame RNA - Removed 1875 features.\n",
      "[INFO] Number of NA values:  0\n",
      "[INFO] DataFrame ADT - Removed 0 features.\n",
      "[INFO] DataFrame RNA - Removed 0 samples (0.00%).\n",
      "[INFO] DataFrame ADT - Removed 0 samples (0.00%).\n",
      "[INFO] Implementing feature selection using laplacian score for layer: RNA with  15134 features\n"
     ]
    },
    {
     "name": "stderr",
     "output_type": "stream",
     "text": [
      "Calculating Laplacian scores: 100%|██████████| 15134/15134 [00:02<00:00, 5240.75it/s]\n",
      "Filtering redundant features: 100%|██████████| 1513/1513 [00:02<00:00, 637.99it/s]\n"
     ]
    },
    {
     "name": "stdout",
     "output_type": "stream",
     "text": [
      "[INFO] Implementing feature selection using laplacian score for layer: ADT with  25 features\n",
      "[INFO] No feature selection applied. Returning original matrix. Demanded # of features is  larger than existing number of features\n",
      "\n",
      "[INFO] ----------------- Processing Data (test) ----------------- \n",
      "\n",
      "[INFO] ----------------- Cleaning Up Data ----------------- \n",
      "[INFO] Number of NA values:  0\n",
      "[INFO] DataFrame RNA - Removed 1800 features.\n",
      "[INFO] Number of NA values:  0\n",
      "[INFO] DataFrame ADT - Removed 0 features.\n",
      "[INFO] DataFrame RNA - Removed 0 samples (0.00%).\n",
      "[INFO] DataFrame ADT - Removed 0 samples (0.00%).\n",
      "\n",
      "[INFO] ----------------- Harmonizing Data Sets ----------------- \n",
      "\n",
      "[INFO] ----------------- Finished Harmonizing ----------------- \n",
      "\n",
      "[INFO] ----------------- Normalizing Data ----------------- \n",
      "\n",
      "[INFO] ----------------- Normalizing Data ----------------- \n",
      "[INFO] Training Data Stats:  {'feature_count in: RNA': 1419, 'feature_count in: ADT': 25, 'sample_count': 1000}\n",
      "[INFO] Test Data Stats:  {'feature_count in: RNA': 1419, 'feature_count in: ADT': 25, 'sample_count': 1000}\n",
      "[INFO] Merging Feature Logs...\n",
      "[INFO] Data import successful.\n"
     ]
    }
   ],
   "source": [
    "data_importer = flexynesis.DataImporter(path ='singlecell_bonemarrow/', \n",
    "                                        data_types = ['RNA', 'ADT'], \n",
    "                                        concatenate=False, top_percentile=10, min_features=25)\n",
    "train_dataset, test_dataset = data_importer.import_data()"
   ]
  },
  {
   "cell_type": "code",
   "execution_count": 10,
   "id": "48a1e830-d843-45bf-ba55-8c2513d1641d",
   "metadata": {},
   "outputs": [
    {
     "name": "stdout",
     "output_type": "stream",
     "text": [
      "Summary for variable: nCount_RNA\n",
      "Numerical Variable Summary: Median = 2301.0, Mean = 2942.25\n",
      "------\n",
      "Summary for variable: nFeature_RNA\n",
      "Numerical Variable Summary: Median = 766.0, Mean = 889.524\n",
      "------\n",
      "Summary for variable: nCount_ADT\n",
      "Numerical Variable Summary: Median = 4459.5, Mean = 4546.876\n",
      "------\n",
      "Summary for variable: nFeature_ADT\n",
      "Numerical Variable Summary: Median = 25.0, Mean = 24.887\n",
      "------\n",
      "Summary for variable: RNA_weight\n",
      "Numerical Variable Summary: Median = 0.4011503669288575, Mean = 0.3936306070806877\n",
      "------\n",
      "Summary for variable: orig_ident\n",
      "Categorical Variable Summary:\n",
      "  Label: bmcite, Count: 1000\n",
      "------\n",
      "Summary for variable: lane\n",
      "Categorical Variable Summary:\n",
      "  Label: HumanHTO1, Count: 101\n",
      "  Label: HumanHTO10, Count: 67\n",
      "  Label: HumanHTO2, Count: 106\n",
      "  Label: HumanHTO3, Count: 113\n",
      "  Label: HumanHTO4, Count: 75\n",
      "  Label: HumanHTO5, Count: 113\n",
      "  Label: HumanHTO6, Count: 89\n",
      "  Label: HumanHTO7, Count: 119\n",
      "  Label: HumanHTO8, Count: 111\n",
      "  Label: HumanHTO9, Count: 106\n",
      "------\n",
      "Summary for variable: donor\n",
      "Categorical Variable Summary:\n",
      "  Label: batch1, Count: 464\n",
      "  Label: batch2, Count: 536\n",
      "------\n",
      "Summary for variable: celltype_l1\n",
      "Categorical Variable Summary:\n",
      "  Label: B cell, Count: 110\n",
      "  Label: Mono/DC, Count: 268\n",
      "  Label: NK, Count: 52\n",
      "  Label: Progenitor cells, Count: 101\n",
      "  Label: T cell, Count: 469\n",
      "------\n",
      "Summary for variable: celltype_l2\n",
      "Categorical Variable Summary:\n",
      "  Label: CD14 Mono, Count: 233\n",
      "  Label: CD16 Mono, Count: 10\n",
      "  Label: CD4 Memory, Count: 113\n",
      "  Label: CD4 Naive, Count: 142\n",
      "  Label: CD56 bright NK, Count: 6\n",
      "  Label: CD8 Effector_1, Count: 17\n",
      "  Label: CD8 Effector_2, Count: 11\n",
      "  Label: CD8 Memory_1, Count: 12\n",
      "  Label: CD8 Memory_2, Count: 11\n",
      "  Label: CD8 Naive, Count: 123\n",
      "  Label: GMP, Count: 26\n",
      "  Label: HSC, Count: 8\n",
      "  Label: LMPP, Count: 9\n",
      "  Label: MAIT, Count: 14\n",
      "  Label: Memory B, Count: 43\n",
      "  Label: NK, Count: 46\n",
      "  Label: Naive B, Count: 61\n",
      "  Label: Plasmablast, Count: 6\n",
      "  Label: Prog_B 1, Count: 7\n",
      "  Label: Prog_B 2, Count: 4\n",
      "  Label: Prog_DC, Count: 8\n",
      "  Label: Prog_Mk, Count: 7\n",
      "  Label: Prog_RBC, Count: 32\n",
      "  Label: Treg, Count: 8\n",
      "  Label: cDC2, Count: 14\n",
      "  Label: gdT, Count: 18\n",
      "  Label: pDC, Count: 11\n",
      "------\n"
     ]
    }
   ],
   "source": [
    "flexynesis.print_summary_stats(train_dataset)"
   ]
  },
  {
   "cell_type": "code",
   "execution_count": 11,
   "id": "d9e0d702-fb41-4ac2-916d-cb3f50ceb552",
   "metadata": {},
   "outputs": [],
   "source": [
    "tuner = flexynesis.HyperparameterTuning(dataset = train_dataset, \n",
    "                                        model_class = flexynesis.DirectPred, \n",
    "                                        target_variables = [\"celltype_l1\"],\n",
    "                                        config_name = \"DirectPred\", \n",
    "                                        plot_losses=True, early_stop_patience=10, \n",
    "                                        n_iter=HPO_ITER)    "
   ]
  },
  {
   "cell_type": "code",
   "execution_count": 12,
   "id": "944d9a8f-903d-4285-8302-5a988ca0f1cd",
   "metadata": {},
   "outputs": [
    {
     "data": {
      "image/png": "[encoded data removed]",
      "text/plain": [
       "<Figure size 720x576 with 1 Axes>"
      ]
     },
     "metadata": {
      "needs_background": "light"
     },
     "output_type": "display_data"
    },
    {
     "name": "stderr",
     "output_type": "stream",
     "text": [
      "Monitored metric val_loss did not improve in the last 10 records. Best score: 0.016. Signaling Trainer to stop.\n"
     ]
    },
    {
     "data": {
      "application/vnd.jupyter.widget-view+json": {
       "model_id": "c8a47f8fbf5943e3a112dd9d3f018410",
       "version_major": 2,
       "version_minor": 0
      },
      "text/plain": [
       "Validation: 0it [00:00, ?it/s]"
      ]
     },
     "metadata": {},
     "output_type": "display_data"
    },
    {
     "data": {
      "text/html": [
       "<pre style=\"white-space:pre;overflow-x:auto;line-height:normal;font-family:Menlo,'DejaVu Sans Mono',consolas,'Courier New',monospace\">┏━━━━━━━━━━━━━━━━━━━━━━━━━━━┳━━━━━━━━━━━━━━━━━━━━━━━━━━━┓\n",
       "┃<span style=\"font-weight: bold\">      Validate metric      </span>┃<span style=\"font-weight: bold\">       DataLoader 0        </span>┃\n",
       "┡━━━━━━━━━━━━━━━━━━━━━━━━━━━╇━━━━━━━━━━━━━━━━━━━━━━━━━━━┩\n",
       "│<span style=\"color: #008080; text-decoration-color: #008080\">        celltype_l1        </span>│<span style=\"color: #800080; text-decoration-color: #800080\">    0.03630061447620392    </span>│\n",
       "│<span style=\"color: #008080; text-decoration-color: #008080\">         val_loss          </span>│<span style=\"color: #800080; text-decoration-color: #800080\">    0.03630061447620392    </span>│\n",
       "└───────────────────────────┴───────────────────────────┘\n",
       "</pre>\n"
      ],
      "text/plain": [
       "┏━━━━━━━━━━━━━━━━━━━━━━━━━━━┳━━━━━━━━━━━━━━━━━━━━━━━━━━━┓\n",
       "┃\u001b[1m \u001b[0m\u001b[1m     Validate metric     \u001b[0m\u001b[1m \u001b[0m┃\u001b[1m \u001b[0m\u001b[1m      DataLoader 0       \u001b[0m\u001b[1m \u001b[0m┃\n",
       "┡━━━━━━━━━━━━━━━━━━━━━━━━━━━╇━━━━━━━━━━━━━━━━━━━━━━━━━━━┩\n",
       "│\u001b[36m \u001b[0m\u001b[36m       celltype_l1       \u001b[0m\u001b[36m \u001b[0m│\u001b[35m \u001b[0m\u001b[35m   0.03630061447620392   \u001b[0m\u001b[35m \u001b[0m│\n",
       "│\u001b[36m \u001b[0m\u001b[36m        val_loss         \u001b[0m\u001b[36m \u001b[0m│\u001b[35m \u001b[0m\u001b[35m   0.03630061447620392   \u001b[0m\u001b[35m \u001b[0m│\n",
       "└───────────────────────────┴───────────────────────────┘\n"
      ]
     },
     "metadata": {},
     "output_type": "display_data"
    },
    {
     "name": "stderr",
     "output_type": "stream",
     "text": [
      "Tuning Progress: 100%|██████████| 1/1 [00:08<00:00,  8.34s/it, Iteration=1, Best Loss=0.0363]\n"
     ]
    }
   ],
   "source": [
    "model, best_params = tuner.perform_tuning()"
   ]
  },
  {
   "cell_type": "code",
   "execution_count": 13,
   "id": "aac1ded6-f275-40e7-813c-42879209ea0a",
   "metadata": {},
   "outputs": [
    {
     "data": {
      "text/plain": [
       "DirectPred(\n",
       "  (log_vars): ParameterDict(  (celltype_l1): Parameter containing: [torch.FloatTensor of size 1])\n",
       "  (encoders): ModuleList(\n",
       "    (0): MLP(\n",
       "      (layer_1): Linear(in_features=1419, out_features=146, bias=True)\n",
       "      (layer_out): Linear(in_features=146, out_features=105, bias=True)\n",
       "      (relu): ReLU()\n",
       "      (dropout): Dropout(p=0.1, inplace=False)\n",
       "      (batchnorm): BatchNorm1d(146, eps=1e-05, momentum=0.1, affine=True, track_running_stats=True)\n",
       "    )\n",
       "    (1): MLP(\n",
       "      (layer_1): Linear(in_features=25, out_features=146, bias=True)\n",
       "      (layer_out): Linear(in_features=146, out_features=105, bias=True)\n",
       "      (relu): ReLU()\n",
       "      (dropout): Dropout(p=0.1, inplace=False)\n",
       "      (batchnorm): BatchNorm1d(146, eps=1e-05, momentum=0.1, affine=True, track_running_stats=True)\n",
       "    )\n",
       "  )\n",
       "  (MLPs): ModuleDict(\n",
       "    (celltype_l1): MLP(\n",
       "      (layer_1): Linear(in_features=210, out_features=146, bias=True)\n",
       "      (layer_out): Linear(in_features=146, out_features=5, bias=True)\n",
       "      (relu): ReLU()\n",
       "      (dropout): Dropout(p=0.1, inplace=False)\n",
       "      (batchnorm): BatchNorm1d(146, eps=1e-05, momentum=0.1, affine=True, track_running_stats=True)\n",
       "    )\n",
       "  )\n",
       ")"
      ]
     },
     "execution_count": 13,
     "metadata": {},
     "output_type": "execute_result"
    }
   ],
   "source": [
    "model"
   ]
  },
  {
   "cell_type": "code",
   "execution_count": 14,
   "id": "060ce612-ad96-44b7-8fc7-2dcf8422f636",
   "metadata": {},
   "outputs": [
    {
     "data": {
      "text/plain": [
       "{'latent_dim': 105,\n",
       " 'hidden_dim': 146,\n",
       " 'lr': 0.00362561763457623,\n",
       " 'batch_size': 89,\n",
       " 'epochs': 200}"
      ]
     },
     "execution_count": 14,
     "metadata": {},
     "output_type": "execute_result"
    }
   ],
   "source": [
    "best_params"
   ]
  },
  {
   "cell_type": "code",
   "execution_count": 15,
   "id": "d1afc2d6-4f5c-4654-9bdf-495e1b6541fe",
   "metadata": {},
   "outputs": [],
   "source": [
    "y_pred_dict = model.predict(test_dataset)"
   ]
  },
  {
   "cell_type": "code",
   "execution_count": 16,
   "id": "0e7235ca-c1f7-43fc-84e1-1e2c880432b0",
   "metadata": {},
   "outputs": [
    {
     "data": {
      "text/html": [
       "<div>\n",
       "<style scoped>\n",
       "    .dataframe tbody tr th:only-of-type {\n",
       "        vertical-align: middle;\n",
       "    }\n",
       "\n",
       "    .dataframe tbody tr th {\n",
       "        vertical-align: top;\n",
       "    }\n",
       "\n",
       "    .dataframe thead th {\n",
       "        text-align: right;\n",
       "    }\n",
       "</style>\n",
       "<table border=\"1\" class=\"dataframe\">\n",
       "  <thead>\n",
       "    <tr style=\"text-align: right;\">\n",
       "      <th></th>\n",
       "      <th>var</th>\n",
       "      <th>variable_type</th>\n",
       "      <th>metric</th>\n",
       "      <th>value</th>\n",
       "    </tr>\n",
       "  </thead>\n",
       "  <tbody>\n",
       "    <tr>\n",
       "      <th>0</th>\n",
       "      <td>celltype_l1</td>\n",
       "      <td>categorical</td>\n",
       "      <td>balanced_acc</td>\n",
       "      <td>0.965630</td>\n",
       "    </tr>\n",
       "    <tr>\n",
       "      <th>1</th>\n",
       "      <td>celltype_l1</td>\n",
       "      <td>categorical</td>\n",
       "      <td>f1_score</td>\n",
       "      <td>0.973345</td>\n",
       "    </tr>\n",
       "    <tr>\n",
       "      <th>2</th>\n",
       "      <td>celltype_l1</td>\n",
       "      <td>categorical</td>\n",
       "      <td>kappa</td>\n",
       "      <td>0.976600</td>\n",
       "    </tr>\n",
       "  </tbody>\n",
       "</table>\n",
       "</div>"
      ],
      "text/plain": [
       "           var variable_type        metric     value\n",
       "0  celltype_l1   categorical  balanced_acc  0.965630\n",
       "1  celltype_l1   categorical      f1_score  0.973345\n",
       "2  celltype_l1   categorical         kappa  0.976600"
      ]
     },
     "execution_count": 16,
     "metadata": {},
     "output_type": "execute_result"
    }
   ],
   "source": [
    "metrics_df = flexynesis.evaluate_wrapper(y_pred_dict, test_dataset)\n",
    "metrics_df"
   ]
  },
  {
   "cell_type": "code",
   "execution_count": 17,
   "id": "d8c0adff-3b3a-4a07-a8a9-987707b270ff",
   "metadata": {},
   "outputs": [],
   "source": [
    "ds = test_dataset\n",
    "E = model.transform(ds)"
   ]
  },
  {
   "cell_type": "code",
   "execution_count": 18,
   "id": "0d8830e0-f69e-45b0-af63-6d5dea83226a",
   "metadata": {},
   "outputs": [],
   "source": [
    "f = 'celltype_l1'\n",
    "labels = [ds.label_mappings[f][x] for x in ds.ann[f].numpy()] #map the sample labels from numeric vector to initial labels. "
   ]
  },
  {
   "cell_type": "code",
   "execution_count": 19,
   "id": "8d32eeea-40b5-47c2-afda-8b6c233caab4",
   "metadata": {},
   "outputs": [
    {
     "data": {
      "image/png": "[encoded data removed]",
      "text/plain": [
       "<Figure size 864x864 with 1 Axes>"
      ]
     },
     "metadata": {
      "needs_background": "light"
     },
     "output_type": "display_data"
    }
   ],
   "source": [
    "flexynesis.plot_dim_reduced(E, labels, color_type = 'categorical', method='umap', scatter_kwargs={'s':50, 'alpha': 0.8},legend_kwargs={'fontsize': 15}, figsize=(12, 12))"
   ]
  },
  {
   "cell_type": "code",
   "execution_count": 20,
   "id": "6d7a0cde-d993-48d2-a00f-08beb07f3a89",
   "metadata": {},
   "outputs": [],
   "source": [
    "for var in model.target_variables:\n",
    "    model.compute_feature_importance(var, steps = 20)"
   ]
  },
  {
   "cell_type": "code",
   "execution_count": 21,
   "id": "1e7aeeb8-ffc1-45eb-8d5c-39a54f8e9c4c",
   "metadata": {},
   "outputs": [],
   "source": [
    "top_features = flexynesis.get_important_features(model, f, top=2)"
   ]
  },
  {
   "cell_type": "code",
   "execution_count": 23,
   "id": "3b7f6188-3b94-4847-a25c-009fdd1c5559",
   "metadata": {},
   "outputs": [
    {
     "data": {
      "text/html": [
       "<div>\n",
       "<style scoped>\n",
       "    .dataframe tbody tr th:only-of-type {\n",
       "        vertical-align: middle;\n",
       "    }\n",
       "\n",
       "    .dataframe tbody tr th {\n",
       "        vertical-align: top;\n",
       "    }\n",
       "\n",
       "    .dataframe thead th {\n",
       "        text-align: right;\n",
       "    }\n",
       "</style>\n",
       "<table border=\"1\" class=\"dataframe\">\n",
       "  <thead>\n",
       "    <tr style=\"text-align: right;\">\n",
       "      <th></th>\n",
       "      <th>target_variable</th>\n",
       "      <th>target_class</th>\n",
       "      <th>layer</th>\n",
       "      <th>name</th>\n",
       "      <th>importance</th>\n",
       "      <th>target_class_label</th>\n",
       "    </tr>\n",
       "  </thead>\n",
       "  <tbody>\n",
       "    <tr>\n",
       "      <th>0</th>\n",
       "      <td>celltype_l1</td>\n",
       "      <td>0</td>\n",
       "      <td>ADT</td>\n",
       "      <td>CD19</td>\n",
       "      <td>0.662994</td>\n",
       "      <td>B cell</td>\n",
       "    </tr>\n",
       "    <tr>\n",
       "      <th>1</th>\n",
       "      <td>celltype_l1</td>\n",
       "      <td>0</td>\n",
       "      <td>ADT</td>\n",
       "      <td>CD45RA</td>\n",
       "      <td>0.477605</td>\n",
       "      <td>B cell</td>\n",
       "    </tr>\n",
       "    <tr>\n",
       "      <th>2</th>\n",
       "      <td>celltype_l1</td>\n",
       "      <td>1</td>\n",
       "      <td>ADT</td>\n",
       "      <td>CD14</td>\n",
       "      <td>0.486517</td>\n",
       "      <td>Mono/DC</td>\n",
       "    </tr>\n",
       "    <tr>\n",
       "      <th>3</th>\n",
       "      <td>celltype_l1</td>\n",
       "      <td>1</td>\n",
       "      <td>ADT</td>\n",
       "      <td>CD11c</td>\n",
       "      <td>0.394333</td>\n",
       "      <td>Mono/DC</td>\n",
       "    </tr>\n",
       "    <tr>\n",
       "      <th>4</th>\n",
       "      <td>celltype_l1</td>\n",
       "      <td>2</td>\n",
       "      <td>ADT</td>\n",
       "      <td>CD161</td>\n",
       "      <td>0.267081</td>\n",
       "      <td>NK</td>\n",
       "    </tr>\n",
       "    <tr>\n",
       "      <th>5</th>\n",
       "      <td>celltype_l1</td>\n",
       "      <td>2</td>\n",
       "      <td>ADT</td>\n",
       "      <td>CD45RA</td>\n",
       "      <td>0.255129</td>\n",
       "      <td>NK</td>\n",
       "    </tr>\n",
       "    <tr>\n",
       "      <th>6</th>\n",
       "      <td>celltype_l1</td>\n",
       "      <td>3</td>\n",
       "      <td>ADT</td>\n",
       "      <td>HLA.DR</td>\n",
       "      <td>0.301809</td>\n",
       "      <td>Progenitor cells</td>\n",
       "    </tr>\n",
       "    <tr>\n",
       "      <th>7</th>\n",
       "      <td>celltype_l1</td>\n",
       "      <td>3</td>\n",
       "      <td>ADT</td>\n",
       "      <td>CD34</td>\n",
       "      <td>0.235881</td>\n",
       "      <td>Progenitor cells</td>\n",
       "    </tr>\n",
       "    <tr>\n",
       "      <th>8</th>\n",
       "      <td>celltype_l1</td>\n",
       "      <td>4</td>\n",
       "      <td>ADT</td>\n",
       "      <td>CD8a</td>\n",
       "      <td>0.486414</td>\n",
       "      <td>T cell</td>\n",
       "    </tr>\n",
       "    <tr>\n",
       "      <th>9</th>\n",
       "      <td>celltype_l1</td>\n",
       "      <td>4</td>\n",
       "      <td>ADT</td>\n",
       "      <td>CD3</td>\n",
       "      <td>0.450259</td>\n",
       "      <td>T cell</td>\n",
       "    </tr>\n",
       "  </tbody>\n",
       "</table>\n",
       "</div>"
      ],
      "text/plain": [
       "  target_variable  target_class layer    name  importance target_class_label\n",
       "0     celltype_l1             0   ADT    CD19    0.662994             B cell\n",
       "1     celltype_l1             0   ADT  CD45RA    0.477605             B cell\n",
       "2     celltype_l1             1   ADT    CD14    0.486517            Mono/DC\n",
       "3     celltype_l1             1   ADT   CD11c    0.394333            Mono/DC\n",
       "4     celltype_l1             2   ADT   CD161    0.267081                 NK\n",
       "5     celltype_l1             2   ADT  CD45RA    0.255129                 NK\n",
       "6     celltype_l1             3   ADT  HLA.DR    0.301809   Progenitor cells\n",
       "7     celltype_l1             3   ADT    CD34    0.235881   Progenitor cells\n",
       "8     celltype_l1             4   ADT    CD8a    0.486414             T cell\n",
       "9     celltype_l1             4   ADT     CD3    0.450259             T cell"
      ]
     },
     "execution_count": 23,
     "metadata": {},
     "output_type": "execute_result"
    }
   ],
   "source": [
    "my_dict = train_dataset.label_mappings['celltype_l1']\n",
    "my_list = top_features['target_class']\n",
    "top_features['target_class_label'] = [my_dict.get(item) for item in my_list if item in my_dict]\n",
    "top_features"
   ]
  }
 ],
 "metadata": {
  "kernelspec": {
   "display_name": "flexynesis_geo",
   "language": "python",
   "name": "flexynesis"
  },
  "language_info": {
   "codemirror_mode": {
    "name": "ipython",
    "version": 3
   },
   "file_extension": ".py",
   "mimetype": "text/x-python",
   "name": "python",
   "nbconvert_exporter": "python",
   "pygments_lexer": "ipython3",
   "version": "3.9.16"
  }
 },
 "nbformat": 4,
 "nbformat_minor": 5
}
