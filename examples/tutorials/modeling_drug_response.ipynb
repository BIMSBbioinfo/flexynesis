{
 "cells": [
  {
   "cell_type": "code",
   "execution_count": 1,
   "id": "e5989ac0-ccbb-4aca-b798-375b583a91f1",
   "metadata": {},
   "outputs": [
    {
     "name": "stderr",
     "output_type": "stream",
     "text": [
      "Global seed set to 42\n",
      "Global seed set to 42\n",
      "Global seed set to 42\n",
      "Global seed set to 42\n",
      "Global seed set to 42\n"
     ]
    }
   ],
   "source": [
    "import flexynesis \n",
    "import torch, os\n",
    "torch.set_num_threads(12)"
   ]
  },
  {
   "cell_type": "code",
   "execution_count": null,
   "id": "26422228-0831-48b5-a1e8-07a7584b5066",
   "metadata": {
    "tags": [
     "parameters"
    ]
   },
   "outputs": [],
   "source": [
    "# parameters cell (required to pass arguments to the notebook) (see View -> show right sidebar -> add tag -> parameters)\n",
    "HPO_ITER = 20 "
   ]
  },
  {
   "cell_type": "code",
   "execution_count": 2,
   "id": "6732426b-011a-4223-a772-1556c4a22986",
   "metadata": {},
   "outputs": [],
   "source": [
    "if not os.path.exists(\"dataset1\"):\n",
    "    !wget -O ccle_gdsc.tgz \"https://bimsbstatic.mdc-berlin.de/akalin/buyar/flexynesis-benchmark-datasets/dataset1.tgz\" && tar -xzvf ccle_gdsc.tgz"
   ]
  },
  {
   "cell_type": "code",
   "execution_count": 3,
   "id": "93c1981a-f509-4fe8-af22-e95d282c8772",
   "metadata": {},
   "outputs": [],
   "source": [
    "data_importer = flexynesis.DataImporter(path ='./dataset1/', \n",
    "                                       data_types = ['gex', 'cnv'], \n",
    "                                        concatenate=False, min_features=100, top_percentile=25)"
   ]
  },
  {
   "cell_type": "code",
   "execution_count": 4,
   "id": "cb24bc50-6417-4692-baaa-5effc47ceebe",
   "metadata": {},
   "outputs": [
    {
     "name": "stdout",
     "output_type": "stream",
     "text": [
      "\n",
      "[INFO] ================= Importing Data =================\n",
      "[INFO] Validating data folders...\n",
      "\n",
      "[INFO] ----------------- Reading Data ----------------- \n",
      "[INFO] Importing ./dataset1/train/clin.csv...\n",
      "[INFO] Importing ./dataset1/train/cnv.csv...\n",
      "[INFO] Importing ./dataset1/train/gex.csv...\n",
      "\n",
      "[INFO] ----------------- Reading Data ----------------- \n",
      "[INFO] Importing ./dataset1/test/clin.csv...\n",
      "[INFO] Importing ./dataset1/test/cnv.csv...\n",
      "[INFO] Importing ./dataset1/test/gex.csv...\n",
      "\n",
      "[INFO] ----------------- Checking for problems with the input data ----------------- \n",
      "[INFO] Data structure is valid with no errors or warnings.\n",
      "\n",
      "[INFO] ----------------- Processing Data (train) ----------------- \n",
      "\n",
      "[INFO] ----------------- Cleaning Up Data ----------------- \n",
      "[INFO] Number of NA values:  0\n",
      "[INFO] DataFrame gex - Removed 0 features.\n",
      "[INFO] Number of NA values:  0\n",
      "[INFO] DataFrame cnv - Removed 0 features.\n",
      "[INFO] DataFrame gex - Removed 0 samples (0.00%).\n",
      "[INFO] DataFrame cnv - Removed 0 samples (0.00%).\n",
      "[INFO] Implementing feature selection using laplacian score for layer: gex with  3422 features\n"
     ]
    },
    {
     "name": "stderr",
     "output_type": "stream",
     "text": [
      "Calculating Laplacian scores: 100%|██████████| 3422/3422 [00:00<00:00, 10315.96it/s]\n",
      "Filtering redundant features: 100%|██████████| 855/855 [00:00<00:00, 888.25it/s] \n"
     ]
    },
    {
     "name": "stdout",
     "output_type": "stream",
     "text": [
      "[INFO] Implementing feature selection using laplacian score for layer: cnv with  157 features\n"
     ]
    },
    {
     "name": "stderr",
     "output_type": "stream",
     "text": [
      "Calculating Laplacian scores: 100%|██████████| 157/157 [00:00<00:00, 11046.34it/s]\n",
      "Filtering redundant features: 100%|██████████| 100/100 [00:00<00:00, 7698.09it/s]\n"
     ]
    },
    {
     "name": "stdout",
     "output_type": "stream",
     "text": [
      "\n",
      "[INFO] ----------------- Processing Data (test) ----------------- \n",
      "\n",
      "[INFO] ----------------- Cleaning Up Data ----------------- \n",
      "[INFO] Number of NA values:  0\n",
      "[INFO] DataFrame gex - Removed 0 features.\n",
      "[INFO] Number of NA values:  0\n",
      "[INFO] DataFrame cnv - Removed 0 features.\n",
      "[INFO] DataFrame gex - Removed 0 samples (0.00%).\n",
      "[INFO] DataFrame cnv - Removed 0 samples (0.00%).\n",
      "\n",
      "[INFO] ----------------- Harmonizing Data Sets ----------------- \n",
      "\n",
      "[INFO] ----------------- Finished Harmonizing ----------------- \n",
      "\n",
      "[INFO] ----------------- Normalizing Data ----------------- \n",
      "\n",
      "[INFO] ----------------- Normalizing Data ----------------- \n",
      "[INFO] Training Data Stats:  {'feature_count in: gex': 855, 'feature_count in: cnv': 100, 'sample_count': 920}\n",
      "[INFO] Test Data Stats:  {'feature_count in: gex': 855, 'feature_count in: cnv': 100, 'sample_count': 930}\n",
      "[INFO] Merging Feature Logs...\n",
      "[INFO] Data import successful.\n"
     ]
    }
   ],
   "source": [
    "train_dataset, test_dataset = data_importer.import_data()"
   ]
  },
  {
   "cell_type": "code",
   "execution_count": 23,
   "id": "66a311c8-a7f2-4073-91b6-52f3ba116344",
   "metadata": {},
   "outputs": [],
   "source": [
    "tuner = flexynesis.HyperparameterTuning(train_dataset, \n",
    "                                        model_class = flexynesis.DirectPred, \n",
    "                                        target_variables = [\"Erlotinib\"],\n",
    "                                        config_name = \"DirectPred\", \n",
    "                                        n_iter=HPO_ITER, plot_losses=True, early_stop_patience=10)"
   ]
  },
  {
   "cell_type": "code",
   "execution_count": 24,
   "id": "88735f45-1a02-4d01-9318-ffb22d0c2302",
   "metadata": {},
   "outputs": [
    {
     "data": {
      "image/png": "[encoded data removed]",
      "text/plain": [
       "<Figure size 720x576 with 1 Axes>"
      ]
     },
     "metadata": {
      "needs_background": "light"
     },
     "output_type": "display_data"
    },
    {
     "name": "stderr",
     "output_type": "stream",
     "text": [
      "Monitored metric val_loss did not improve in the last 10 records. Best score: 0.004. Signaling Trainer to stop.\n"
     ]
    },
    {
     "data": {
      "application/vnd.jupyter.widget-view+json": {
       "model_id": "cd979cae9fe647d6a959f7b13f2728ba",
       "version_major": 2,
       "version_minor": 0
      },
      "text/plain": [
       "Validation: 0it [00:00, ?it/s]"
      ]
     },
     "metadata": {},
     "output_type": "display_data"
    },
    {
     "data": {
      "text/html": [
       "<pre style=\"white-space:pre;overflow-x:auto;line-height:normal;font-family:Menlo,'DejaVu Sans Mono',consolas,'Courier New',monospace\">┏━━━━━━━━━━━━━━━━━━━━━━━━━━━┳━━━━━━━━━━━━━━━━━━━━━━━━━━━┓\n",
       "┃<span style=\"font-weight: bold\">      Validate metric      </span>┃<span style=\"font-weight: bold\">       DataLoader 0        </span>┃\n",
       "┡━━━━━━━━━━━━━━━━━━━━━━━━━━━╇━━━━━━━━━━━━━━━━━━━━━━━━━━━┩\n",
       "│<span style=\"color: #008080; text-decoration-color: #008080\">         Erlotinib         </span>│<span style=\"color: #800080; text-decoration-color: #800080\">   0.007956421002745628    </span>│\n",
       "│<span style=\"color: #008080; text-decoration-color: #008080\">         val_loss          </span>│<span style=\"color: #800080; text-decoration-color: #800080\">   0.007956421002745628    </span>│\n",
       "└───────────────────────────┴───────────────────────────┘\n",
       "</pre>\n"
      ],
      "text/plain": [
       "┏━━━━━━━━━━━━━━━━━━━━━━━━━━━┳━━━━━━━━━━━━━━━━━━━━━━━━━━━┓\n",
       "┃\u001b[1m \u001b[0m\u001b[1m     Validate metric     \u001b[0m\u001b[1m \u001b[0m┃\u001b[1m \u001b[0m\u001b[1m      DataLoader 0       \u001b[0m\u001b[1m \u001b[0m┃\n",
       "┡━━━━━━━━━━━━━━━━━━━━━━━━━━━╇━━━━━━━━━━━━━━━━━━━━━━━━━━━┩\n",
       "│\u001b[36m \u001b[0m\u001b[36m        Erlotinib        \u001b[0m\u001b[36m \u001b[0m│\u001b[35m \u001b[0m\u001b[35m  0.007956421002745628   \u001b[0m\u001b[35m \u001b[0m│\n",
       "│\u001b[36m \u001b[0m\u001b[36m        val_loss         \u001b[0m\u001b[36m \u001b[0m│\u001b[35m \u001b[0m\u001b[35m  0.007956421002745628   \u001b[0m\u001b[35m \u001b[0m│\n",
       "└───────────────────────────┴───────────────────────────┘\n"
      ]
     },
     "metadata": {},
     "output_type": "display_data"
    },
    {
     "name": "stderr",
     "output_type": "stream",
     "text": [
      "\n",
      "Tuning Progress:   0%|          | 0/1 [00:12<?, ?it/s, Iteration=1, Best Loss=0.00796]\u001b[A\n",
      "Tuning Progress: 100%|██████████| 1/1 [00:12<00:00, 12.40s/it, Iteration=1, Best Loss=0.00796]\u001b[A\n"
     ]
    },
    {
     "data": {
      "text/plain": [
       "{'latent_dim': 80,\n",
       " 'hidden_dim': 297,\n",
       " 'lr': 0.008362652463906247,\n",
       " 'batch_size': 113,\n",
       " 'epochs': 200}"
      ]
     },
     "execution_count": 24,
     "metadata": {},
     "output_type": "execute_result"
    }
   ],
   "source": [
    "model, best_params = tuner.perform_tuning()\n",
    "best_params"
   ]
  },
  {
   "cell_type": "code",
   "execution_count": 25,
   "id": "7c8bf214-f0e1-474d-9f1c-13b07a6c67a1",
   "metadata": {},
   "outputs": [],
   "source": [
    "y_pred_dict = model.predict(test_dataset)"
   ]
  },
  {
   "cell_type": "code",
   "execution_count": 26,
   "id": "23d1c4c2-7d14-4747-b526-cf20d1946cdc",
   "metadata": {},
   "outputs": [
    {
     "data": {
      "text/html": [
       "<div>\n",
       "<style scoped>\n",
       "    .dataframe tbody tr th:only-of-type {\n",
       "        vertical-align: middle;\n",
       "    }\n",
       "\n",
       "    .dataframe tbody tr th {\n",
       "        vertical-align: top;\n",
       "    }\n",
       "\n",
       "    .dataframe thead th {\n",
       "        text-align: right;\n",
       "    }\n",
       "</style>\n",
       "<table border=\"1\" class=\"dataframe\">\n",
       "  <thead>\n",
       "    <tr style=\"text-align: right;\">\n",
       "      <th></th>\n",
       "      <th>var</th>\n",
       "      <th>variable_type</th>\n",
       "      <th>metric</th>\n",
       "      <th>value</th>\n",
       "    </tr>\n",
       "  </thead>\n",
       "  <tbody>\n",
       "    <tr>\n",
       "      <th>0</th>\n",
       "      <td>Erlotinib</td>\n",
       "      <td>numerical</td>\n",
       "      <td>mse</td>\n",
       "      <td>0.007641</td>\n",
       "    </tr>\n",
       "    <tr>\n",
       "      <th>1</th>\n",
       "      <td>Erlotinib</td>\n",
       "      <td>numerical</td>\n",
       "      <td>r2</td>\n",
       "      <td>-0.225954</td>\n",
       "    </tr>\n",
       "    <tr>\n",
       "      <th>2</th>\n",
       "      <td>Erlotinib</td>\n",
       "      <td>numerical</td>\n",
       "      <td>pearson_corr</td>\n",
       "      <td>-0.064456</td>\n",
       "    </tr>\n",
       "  </tbody>\n",
       "</table>\n",
       "</div>"
      ],
      "text/plain": [
       "         var variable_type        metric     value\n",
       "0  Erlotinib     numerical           mse  0.007641\n",
       "1  Erlotinib     numerical            r2 -0.225954\n",
       "2  Erlotinib     numerical  pearson_corr -0.064456"
      ]
     },
     "execution_count": 26,
     "metadata": {},
     "output_type": "execute_result"
    }
   ],
   "source": [
    "metrics_df = flexynesis.evaluate_wrapper(y_pred_dict, test_dataset)\n",
    "metrics_df"
   ]
  },
  {
   "cell_type": "code",
   "execution_count": 27,
   "id": "d9ccb4a0-c21d-4a54-aa6d-b80f4ee37fec",
   "metadata": {},
   "outputs": [
    {
     "data": {
      "image/png": "[encoded data removed]",
      "text/plain": [
       "<Figure size 432x288 with 1 Axes>"
      ]
     },
     "metadata": {
      "needs_background": "light"
     },
     "output_type": "display_data"
    }
   ],
   "source": [
    "flexynesis.plot_scatter(test_dataset.ann['Erlotinib'].flatten(), y_pred_dict['Erlotinib'].flatten())"
   ]
  },
  {
   "cell_type": "code",
   "execution_count": 28,
   "id": "b4deb035-af99-45f9-9bc4-bcaf15369ce5",
   "metadata": {},
   "outputs": [],
   "source": [
    "for var in model.target_variables:\n",
    "    model.compute_feature_importance(var, steps = 30)"
   ]
  },
  {
   "cell_type": "code",
   "execution_count": 29,
   "id": "2c3f0ca2-0df6-424c-9467-539fc4ba4dc2",
   "metadata": {},
   "outputs": [],
   "source": [
    "top_features = flexynesis.get_important_features(model, \"Erlotinib\", top=10)"
   ]
  },
  {
   "cell_type": "code",
   "execution_count": 30,
   "id": "4ba0b963-c1b8-4816-a040-c8a45fa71cc4",
   "metadata": {},
   "outputs": [
    {
     "data": {
      "text/html": [
       "<div>\n",
       "<style scoped>\n",
       "    .dataframe tbody tr th:only-of-type {\n",
       "        vertical-align: middle;\n",
       "    }\n",
       "\n",
       "    .dataframe tbody tr th {\n",
       "        vertical-align: top;\n",
       "    }\n",
       "\n",
       "    .dataframe thead th {\n",
       "        text-align: right;\n",
       "    }\n",
       "</style>\n",
       "<table border=\"1\" class=\"dataframe\">\n",
       "  <thead>\n",
       "    <tr style=\"text-align: right;\">\n",
       "      <th></th>\n",
       "      <th>target_variable</th>\n",
       "      <th>target_class</th>\n",
       "      <th>layer</th>\n",
       "      <th>name</th>\n",
       "      <th>importance</th>\n",
       "    </tr>\n",
       "  </thead>\n",
       "  <tbody>\n",
       "    <tr>\n",
       "      <th>0</th>\n",
       "      <td>Erlotinib</td>\n",
       "      <td>0</td>\n",
       "      <td>cnv</td>\n",
       "      <td>MFAP3</td>\n",
       "      <td>0.001316</td>\n",
       "    </tr>\n",
       "    <tr>\n",
       "      <th>1</th>\n",
       "      <td>Erlotinib</td>\n",
       "      <td>0</td>\n",
       "      <td>cnv</td>\n",
       "      <td>ZNF14</td>\n",
       "      <td>0.000921</td>\n",
       "    </tr>\n",
       "    <tr>\n",
       "      <th>2</th>\n",
       "      <td>Erlotinib</td>\n",
       "      <td>0</td>\n",
       "      <td>cnv</td>\n",
       "      <td>C1orf174</td>\n",
       "      <td>0.000900</td>\n",
       "    </tr>\n",
       "    <tr>\n",
       "      <th>3</th>\n",
       "      <td>Erlotinib</td>\n",
       "      <td>0</td>\n",
       "      <td>cnv</td>\n",
       "      <td>CROCC</td>\n",
       "      <td>0.000894</td>\n",
       "    </tr>\n",
       "    <tr>\n",
       "      <th>4</th>\n",
       "      <td>Erlotinib</td>\n",
       "      <td>0</td>\n",
       "      <td>cnv</td>\n",
       "      <td>CDKN2C</td>\n",
       "      <td>0.000872</td>\n",
       "    </tr>\n",
       "    <tr>\n",
       "      <th>5</th>\n",
       "      <td>Erlotinib</td>\n",
       "      <td>0</td>\n",
       "      <td>cnv</td>\n",
       "      <td>RNASE2</td>\n",
       "      <td>0.000866</td>\n",
       "    </tr>\n",
       "    <tr>\n",
       "      <th>6</th>\n",
       "      <td>Erlotinib</td>\n",
       "      <td>0</td>\n",
       "      <td>cnv</td>\n",
       "      <td>ULK4</td>\n",
       "      <td>0.000862</td>\n",
       "    </tr>\n",
       "    <tr>\n",
       "      <th>7</th>\n",
       "      <td>Erlotinib</td>\n",
       "      <td>0</td>\n",
       "      <td>cnv</td>\n",
       "      <td>DEPDC5</td>\n",
       "      <td>0.000788</td>\n",
       "    </tr>\n",
       "    <tr>\n",
       "      <th>8</th>\n",
       "      <td>Erlotinib</td>\n",
       "      <td>0</td>\n",
       "      <td>cnv</td>\n",
       "      <td>ZNF208</td>\n",
       "      <td>0.000783</td>\n",
       "    </tr>\n",
       "    <tr>\n",
       "      <th>9</th>\n",
       "      <td>Erlotinib</td>\n",
       "      <td>0</td>\n",
       "      <td>cnv</td>\n",
       "      <td>RAPGEF6</td>\n",
       "      <td>0.000780</td>\n",
       "    </tr>\n",
       "  </tbody>\n",
       "</table>\n",
       "</div>"
      ],
      "text/plain": [
       "  target_variable  target_class layer      name  importance\n",
       "0       Erlotinib             0   cnv     MFAP3    0.001316\n",
       "1       Erlotinib             0   cnv     ZNF14    0.000921\n",
       "2       Erlotinib             0   cnv  C1orf174    0.000900\n",
       "3       Erlotinib             0   cnv     CROCC    0.000894\n",
       "4       Erlotinib             0   cnv    CDKN2C    0.000872\n",
       "5       Erlotinib             0   cnv    RNASE2    0.000866\n",
       "6       Erlotinib             0   cnv      ULK4    0.000862\n",
       "7       Erlotinib             0   cnv    DEPDC5    0.000788\n",
       "8       Erlotinib             0   cnv    ZNF208    0.000783\n",
       "9       Erlotinib             0   cnv   RAPGEF6    0.000780"
      ]
     },
     "execution_count": 30,
     "metadata": {},
     "output_type": "execute_result"
    }
   ],
   "source": [
    "top_features"
   ]
  },
  {
   "cell_type": "code",
   "execution_count": 31,
   "id": "b57c0f12-23ff-4733-afa4-3c6e748dcced",
   "metadata": {},
   "outputs": [
    {
     "data": {
      "text/html": [
       "<div>\n",
       "<style scoped>\n",
       "    .dataframe tbody tr th:only-of-type {\n",
       "        vertical-align: middle;\n",
       "    }\n",
       "\n",
       "    .dataframe tbody tr th {\n",
       "        vertical-align: top;\n",
       "    }\n",
       "\n",
       "    .dataframe thead th {\n",
       "        text-align: right;\n",
       "    }\n",
       "</style>\n",
       "<table border=\"1\" class=\"dataframe\">\n",
       "  <thead>\n",
       "    <tr style=\"text-align: right;\">\n",
       "      <th></th>\n",
       "      <th>cnv_MFAP3</th>\n",
       "      <th>cnv_ZNF14</th>\n",
       "      <th>cnv_C1orf174</th>\n",
       "      <th>cnv_CROCC</th>\n",
       "      <th>cnv_CDKN2C</th>\n",
       "      <th>cnv_RNASE2</th>\n",
       "      <th>cnv_ULK4</th>\n",
       "      <th>cnv_DEPDC5</th>\n",
       "      <th>cnv_ZNF208</th>\n",
       "      <th>cnv_RAPGEF6</th>\n",
       "    </tr>\n",
       "  </thead>\n",
       "  <tbody>\n",
       "    <tr>\n",
       "      <th>target_dataset:SNU-719</th>\n",
       "      <td>0.788182</td>\n",
       "      <td>0.020177</td>\n",
       "      <td>0.090568</td>\n",
       "      <td>-0.117252</td>\n",
       "      <td>-0.157650</td>\n",
       "      <td>1.078483</td>\n",
       "      <td>-0.276309</td>\n",
       "      <td>1.375912</td>\n",
       "      <td>-0.403744</td>\n",
       "      <td>1.161549</td>\n",
       "    </tr>\n",
       "    <tr>\n",
       "      <th>target_dataset:LOX-IMVI</th>\n",
       "      <td>0.410582</td>\n",
       "      <td>0.816996</td>\n",
       "      <td>-0.384470</td>\n",
       "      <td>-0.392621</td>\n",
       "      <td>-0.362993</td>\n",
       "      <td>0.468617</td>\n",
       "      <td>0.693221</td>\n",
       "      <td>-0.359845</td>\n",
       "      <td>0.833038</td>\n",
       "      <td>0.472707</td>\n",
       "    </tr>\n",
       "    <tr>\n",
       "      <th>target_dataset:SNU-324</th>\n",
       "      <td>1.252408</td>\n",
       "      <td>1.243529</td>\n",
       "      <td>1.298958</td>\n",
       "      <td>1.357452</td>\n",
       "      <td>0.942039</td>\n",
       "      <td>1.305891</td>\n",
       "      <td>1.545600</td>\n",
       "      <td>1.570887</td>\n",
       "      <td>1.525202</td>\n",
       "      <td>1.473681</td>\n",
       "    </tr>\n",
       "    <tr>\n",
       "      <th>target_dataset:SR</th>\n",
       "      <td>0.692672</td>\n",
       "      <td>1.194314</td>\n",
       "      <td>0.944322</td>\n",
       "      <td>0.991052</td>\n",
       "      <td>0.645055</td>\n",
       "      <td>-0.137115</td>\n",
       "      <td>1.060835</td>\n",
       "      <td>1.856217</td>\n",
       "      <td>0.718039</td>\n",
       "      <td>0.858028</td>\n",
       "    </tr>\n",
       "    <tr>\n",
       "      <th>target_dataset:RD</th>\n",
       "      <td>-0.955441</td>\n",
       "      <td>0.364684</td>\n",
       "      <td>-0.141478</td>\n",
       "      <td>-1.095837</td>\n",
       "      <td>0.697663</td>\n",
       "      <td>-0.500968</td>\n",
       "      <td>-0.334885</td>\n",
       "      <td>-0.737908</td>\n",
       "      <td>0.414268</td>\n",
       "      <td>-0.575625</td>\n",
       "    </tr>\n",
       "    <tr>\n",
       "      <th>...</th>\n",
       "      <td>...</td>\n",
       "      <td>...</td>\n",
       "      <td>...</td>\n",
       "      <td>...</td>\n",
       "      <td>...</td>\n",
       "      <td>...</td>\n",
       "      <td>...</td>\n",
       "      <td>...</td>\n",
       "      <td>...</td>\n",
       "      <td>...</td>\n",
       "    </tr>\n",
       "    <tr>\n",
       "      <th>target_dataset:SET-2</th>\n",
       "      <td>-3.132193</td>\n",
       "      <td>-0.422761</td>\n",
       "      <td>-0.377903</td>\n",
       "      <td>-0.385794</td>\n",
       "      <td>-0.357902</td>\n",
       "      <td>-0.565055</td>\n",
       "      <td>-0.385381</td>\n",
       "      <td>-0.305157</td>\n",
       "      <td>-0.314782</td>\n",
       "      <td>-2.812210</td>\n",
       "    </tr>\n",
       "    <tr>\n",
       "      <th>target_dataset:ACC-MESO-1</th>\n",
       "      <td>1.441208</td>\n",
       "      <td>-1.453938</td>\n",
       "      <td>-1.371760</td>\n",
       "      <td>-0.843225</td>\n",
       "      <td>0.088422</td>\n",
       "      <td>-1.925368</td>\n",
       "      <td>-0.338925</td>\n",
       "      <td>-0.985194</td>\n",
       "      <td>-1.269491</td>\n",
       "      <td>0.571728</td>\n",
       "    </tr>\n",
       "    <tr>\n",
       "      <th>target_dataset:TE-5</th>\n",
       "      <td>-0.931008</td>\n",
       "      <td>-0.732114</td>\n",
       "      <td>-0.550842</td>\n",
       "      <td>-0.565580</td>\n",
       "      <td>-0.581913</td>\n",
       "      <td>0.416933</td>\n",
       "      <td>-0.425778</td>\n",
       "      <td>-3.053836</td>\n",
       "      <td>-0.755250</td>\n",
       "      <td>-0.709088</td>\n",
       "    </tr>\n",
       "    <tr>\n",
       "      <th>target_dataset:HCC38</th>\n",
       "      <td>-0.360166</td>\n",
       "      <td>-0.059505</td>\n",
       "      <td>-0.012321</td>\n",
       "      <td>0.171772</td>\n",
       "      <td>-0.086374</td>\n",
       "      <td>-0.252887</td>\n",
       "      <td>0.111503</td>\n",
       "      <td>0.137104</td>\n",
       "      <td>0.021536</td>\n",
       "      <td>0.558812</td>\n",
       "    </tr>\n",
       "    <tr>\n",
       "      <th>target_dataset:FTC-133</th>\n",
       "      <td>2.218620</td>\n",
       "      <td>0.779499</td>\n",
       "      <td>1.966638</td>\n",
       "      <td>1.088910</td>\n",
       "      <td>1.281449</td>\n",
       "      <td>1.305891</td>\n",
       "      <td>0.822492</td>\n",
       "      <td>1.211847</td>\n",
       "      <td>0.798321</td>\n",
       "      <td>2.907334</td>\n",
       "    </tr>\n",
       "  </tbody>\n",
       "</table>\n",
       "<p>930 rows × 10 columns</p>\n",
       "</div>"
      ],
      "text/plain": [
       "                           cnv_MFAP3  cnv_ZNF14  cnv_C1orf174  cnv_CROCC  \\\n",
       "target_dataset:SNU-719      0.788182   0.020177      0.090568  -0.117252   \n",
       "target_dataset:LOX-IMVI     0.410582   0.816996     -0.384470  -0.392621   \n",
       "target_dataset:SNU-324      1.252408   1.243529      1.298958   1.357452   \n",
       "target_dataset:SR           0.692672   1.194314      0.944322   0.991052   \n",
       "target_dataset:RD          -0.955441   0.364684     -0.141478  -1.095837   \n",
       "...                              ...        ...           ...        ...   \n",
       "target_dataset:SET-2       -3.132193  -0.422761     -0.377903  -0.385794   \n",
       "target_dataset:ACC-MESO-1   1.441208  -1.453938     -1.371760  -0.843225   \n",
       "target_dataset:TE-5        -0.931008  -0.732114     -0.550842  -0.565580   \n",
       "target_dataset:HCC38       -0.360166  -0.059505     -0.012321   0.171772   \n",
       "target_dataset:FTC-133      2.218620   0.779499      1.966638   1.088910   \n",
       "\n",
       "                           cnv_CDKN2C  cnv_RNASE2  cnv_ULK4  cnv_DEPDC5  \\\n",
       "target_dataset:SNU-719      -0.157650    1.078483 -0.276309    1.375912   \n",
       "target_dataset:LOX-IMVI     -0.362993    0.468617  0.693221   -0.359845   \n",
       "target_dataset:SNU-324       0.942039    1.305891  1.545600    1.570887   \n",
       "target_dataset:SR            0.645055   -0.137115  1.060835    1.856217   \n",
       "target_dataset:RD            0.697663   -0.500968 -0.334885   -0.737908   \n",
       "...                               ...         ...       ...         ...   \n",
       "target_dataset:SET-2        -0.357902   -0.565055 -0.385381   -0.305157   \n",
       "target_dataset:ACC-MESO-1    0.088422   -1.925368 -0.338925   -0.985194   \n",
       "target_dataset:TE-5         -0.581913    0.416933 -0.425778   -3.053836   \n",
       "target_dataset:HCC38        -0.086374   -0.252887  0.111503    0.137104   \n",
       "target_dataset:FTC-133       1.281449    1.305891  0.822492    1.211847   \n",
       "\n",
       "                           cnv_ZNF208  cnv_RAPGEF6  \n",
       "target_dataset:SNU-719      -0.403744     1.161549  \n",
       "target_dataset:LOX-IMVI      0.833038     0.472707  \n",
       "target_dataset:SNU-324       1.525202     1.473681  \n",
       "target_dataset:SR            0.718039     0.858028  \n",
       "target_dataset:RD            0.414268    -0.575625  \n",
       "...                               ...          ...  \n",
       "target_dataset:SET-2        -0.314782    -2.812210  \n",
       "target_dataset:ACC-MESO-1   -1.269491     0.571728  \n",
       "target_dataset:TE-5         -0.755250    -0.709088  \n",
       "target_dataset:HCC38         0.021536     0.558812  \n",
       "target_dataset:FTC-133       0.798321     2.907334  \n",
       "\n",
       "[930 rows x 10 columns]"
      ]
     },
     "execution_count": 31,
     "metadata": {},
     "output_type": "execute_result"
    }
   ],
   "source": [
    "df = test_dataset.get_feature_subset(top_features)\n",
    "df"
   ]
  },
  {
   "cell_type": "code",
   "execution_count": 33,
   "id": "0614a51c-7a8a-4c39-8cc3-11f564709dca",
   "metadata": {},
   "outputs": [
    {
     "data": {
      "text/plain": [
       "'cnv_MFAP3'"
      ]
     },
     "execution_count": 33,
     "metadata": {},
     "output_type": "execute_result"
    }
   ],
   "source": [
    "df.columns[0]"
   ]
  },
  {
   "cell_type": "code",
   "execution_count": 34,
   "id": "5304c97d-2e75-42e3-94bd-4cee093b57e7",
   "metadata": {},
   "outputs": [
    {
     "data": {
      "image/png": "[encoded data removed]",
      "text/plain": [
       "<Figure size 432x288 with 1 Axes>"
      ]
     },
     "metadata": {
      "needs_background": "light"
     },
     "output_type": "display_data"
    }
   ],
   "source": [
    "# plot top feature correlation with Erlotinib response\n",
    "f = df.columns[0]\n",
    "flexynesis.plot_scatter(df[f], test_dataset.ann['Erlotinib'])"
   ]
  },
  {
   "cell_type": "code",
   "execution_count": 35,
   "id": "7a196b2a-2bc1-4772-a39c-1c6383fe3b23",
   "metadata": {},
   "outputs": [],
   "source": [
    "response_category = flexynesis.split_by_median(test_dataset.ann['Erlotinib'])"
   ]
  },
  {
   "cell_type": "code",
   "execution_count": 36,
   "id": "3294fe73-7774-4ea3-adcc-6f81cebdf1ba",
   "metadata": {},
   "outputs": [
    {
     "data": {
      "image/png": "[encoded data removed]",
      "text/plain": [
       "<Figure size 720x432 with 1 Axes>"
      ]
     },
     "metadata": {
      "needs_background": "light"
     },
     "output_type": "display_data"
    }
   ],
   "source": [
    "flexynesis.plot_boxplot(response_category, df[f], 'Erlotinib', f)"
   ]
  }
 ],
 "metadata": {
  "kernelspec": {
   "display_name": "flexynesis_geo",
   "language": "python",
   "name": "flexynesis"
  },
  "language_info": {
   "codemirror_mode": {
    "name": "ipython",
    "version": 3
   },
   "file_extension": ".py",
   "mimetype": "text/x-python",
   "name": "python",
   "nbconvert_exporter": "python",
   "pygments_lexer": "ipython3",
   "version": "3.9.16"
  }
 },
 "nbformat": 4,
 "nbformat_minor": 5
}
