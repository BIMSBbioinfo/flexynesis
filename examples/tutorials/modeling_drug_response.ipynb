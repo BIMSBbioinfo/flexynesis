{
 "cells": [
  {
   "cell_type": "code",
   "execution_count": null,
   "id": "e5989ac0-ccbb-4aca-b798-375b583a91f1",
   "metadata": {},
   "outputs": [],
   "source": [
    "import flexynesis \n",
    "import torch, os\n",
    "torch.set_num_threads(12)"
   ]
  },
  {
   "cell_type": "markdown",
   "id": "9009d0c2-f761-4a11-8610-6012987bda64",
   "metadata": {},
   "source": [
    "# Modeling Drug Response Using Publicly Available Pharmocogenomics Datasets"
   ]
  },
  {
   "cell_type": "markdown",
   "id": "4e2cc903-70aa-4389-a72f-b790aa208c5f",
   "metadata": {},
   "source": [
    "We build models using CCLE data and make predictions on GDSC data. "
   ]
  },
  {
   "cell_type": "markdown",
   "id": "d6321290-56ae-406d-ad56-0e251f8b1778",
   "metadata": {},
   "source": [
    "# Download Data"
   ]
  },
  {
   "cell_type": "code",
   "execution_count": null,
   "id": "6732426b-011a-4223-a772-1556c4a22986",
   "metadata": {},
   "outputs": [],
   "source": [
    "if not os.path.exists(\"dataset1\"):\n",
    "    !wget -O ccle_gdsc.tgz \"https://bimsbstatic.mdc-berlin.de/akalin/buyar/flexynesis-benchmark-datasets/dataset1.tgz\" && tar -xzvf ccle_gdsc.tgz"
   ]
  },
  {
   "cell_type": "markdown",
   "id": "ccfda8dd-92fa-4edc-b1a4-60dd2cdd28b5",
   "metadata": {},
   "source": [
    "## Define Data Importer "
   ]
  },
  {
   "cell_type": "code",
   "execution_count": null,
   "id": "93c1981a-f509-4fe8-af22-e95d282c8772",
   "metadata": {},
   "outputs": [],
   "source": [
    "data_importer = flexynesis.DataImporter(path ='./dataset1/', \n",
    "                                       data_types = ['gex', 'cnv'], \n",
    "                                        concatenate=False, min_features=1000, top_percentile=0.2)"
   ]
  },
  {
   "cell_type": "code",
   "execution_count": null,
   "id": "cb24bc50-6417-4692-baaa-5effc47ceebe",
   "metadata": {},
   "outputs": [],
   "source": [
    "train_dataset, test_dataset = data_importer.import_data()"
   ]
  },
  {
   "cell_type": "code",
   "execution_count": null,
   "id": "66a311c8-a7f2-4073-91b6-52f3ba116344",
   "metadata": {},
   "outputs": [],
   "source": [
    "tuner = flexynesis.HyperparameterTuning(train_dataset, \n",
    "                                        model_class = flexynesis.DirectPred, \n",
    "                                        target_variables = \"Erlotinib\",\n",
    "                                        batch_variables = None,\n",
    "                                        config_name = \"DirectPred\", \n",
    "                                        n_iter=5)    "
   ]
  },
  {
   "cell_type": "code",
   "execution_count": null,
   "id": "88735f45-1a02-4d01-9318-ffb22d0c2302",
   "metadata": {},
   "outputs": [],
   "source": [
    "model, best_params = tuner.perform_tuning()\n",
    "torch.save(model, 'mymodel.pth')\n",
    "#model = torch.load('mymodel.pth')\n",
    "#model.eval()"
   ]
  },
  {
   "cell_type": "code",
   "execution_count": null,
   "id": "7c8bf214-f0e1-474d-9f1c-13b07a6c67a1",
   "metadata": {},
   "outputs": [],
   "source": [
    "y_pred_dict = model.predict(test_dataset)"
   ]
  },
  {
   "cell_type": "code",
   "execution_count": null,
   "id": "23d1c4c2-7d14-4747-b526-cf20d1946cdc",
   "metadata": {},
   "outputs": [],
   "source": [
    "metrics_df = flexynesis.evaluate_wrapper(y_pred_dict, test_dataset)\n",
    "metrics_df"
   ]
  },
  {
   "cell_type": "code",
   "execution_count": null,
   "id": "b4deb035-af99-45f9-9bc4-bcaf15369ce5",
   "metadata": {},
   "outputs": [],
   "source": [
    "for var in model.target_variables:\n",
    "    model.compute_feature_importance(var, steps = 50)"
   ]
  },
  {
   "cell_type": "code",
   "execution_count": null,
   "id": "2c3f0ca2-0df6-424c-9467-539fc4ba4dc2",
   "metadata": {},
   "outputs": [],
   "source": [
    "top_features = flexynesis.get_important_features(model, \"Erlotinib\", top=10)\n",
    "top_features"
   ]
  },
  {
   "cell_type": "code",
   "execution_count": null,
   "id": "7fbef11f-ff8d-4a2b-a1ad-a85d3787d44c",
   "metadata": {},
   "outputs": [],
   "source": [
    "top_features = top_features.groupby('layer')['name'].apply(list).to_dict() #convert to dict"
   ]
  },
  {
   "cell_type": "code",
   "execution_count": null,
   "id": "b57c0f12-23ff-4733-afa4-3c6e748dcced",
   "metadata": {},
   "outputs": [],
   "source": [
    "df = flexynesis.subset_assays_by_features(test_dataset, top_features)\n",
    "df"
   ]
  },
  {
   "cell_type": "code",
   "execution_count": null,
   "id": "26422265-8edb-4f00-915e-b9e8d8df9e91",
   "metadata": {},
   "outputs": [],
   "source": [
    "response_category = flexynesis.split_by_median(test_dataset.ann['Erlotinib'])"
   ]
  },
  {
   "cell_type": "code",
   "execution_count": null,
   "id": "5304c97d-2e75-42e3-94bd-4cee093b57e7",
   "metadata": {},
   "outputs": [],
   "source": [
    "flexynesis.plot_scatter(df['cnv_EGFR'], test_dataset.ann['Erlotinib'])"
   ]
  },
  {
   "cell_type": "code",
   "execution_count": null,
   "id": "3294fe73-7774-4ea3-adcc-6f81cebdf1ba",
   "metadata": {},
   "outputs": [],
   "source": [
    "f = 'gex_EGFR'\n",
    "flexynesis.plot_boxplot(response_category, df[f], 'Erlotinib', f)"
   ]
  },
  {
   "cell_type": "code",
   "execution_count": null,
   "id": "d1618290-66c1-43b5-bc3c-0ab7a5d94dfa",
   "metadata": {},
   "outputs": [],
   "source": []
  }
 ],
 "metadata": {
  "kernelspec": {
   "display_name": "flexynesis",
   "language": "python",
   "name": "flexynesis"
  },
  "language_info": {
   "codemirror_mode": {
    "name": "ipython",
    "version": 3
   },
   "file_extension": ".py",
   "mimetype": "text/x-python",
   "name": "python",
   "nbconvert_exporter": "python",
   "pygments_lexer": "ipython3",
   "version": "3.9.16"
  }
 },
 "nbformat": 4,
 "nbformat_minor": 5
}
