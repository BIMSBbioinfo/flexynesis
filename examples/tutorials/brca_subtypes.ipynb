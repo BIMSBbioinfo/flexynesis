{
 "cells": [
  {
   "cell_type": "code",
   "execution_count": 1,
   "id": "d8ce078a-a1aa-4f3e-be43-28655dea97e5",
   "metadata": {},
   "outputs": [],
   "source": [
    "import flexynesis \n",
    "import torch, os\n",
    "torch.set_num_threads(12)"
   ]
  },
  {
   "cell_type": "markdown",
   "id": "6a72a183-ba8a-4fd1-8fee-19c94a534c10",
   "metadata": {},
   "source": [
    "# Modeling Breast Cancer Subtypes "
   ]
  },
  {
   "cell_type": "code",
   "execution_count": 2,
   "id": "31189edf-56a1-4eaa-beeb-ce8c7f2c2f50",
   "metadata": {},
   "outputs": [],
   "source": [
    "if not os.path.exists(\"brca_metabric_processed\"):\n",
    "    !wget -O brca_metabric.tgz \"https://bimsbstatic.mdc-berlin.de/akalin/buyar/flexynesis-benchmark-datasets/brca_metabric_processed.tgz\" && tar -xzvf brca_metabric.tgz"
   ]
  },
  {
   "cell_type": "code",
   "execution_count": 16,
   "id": "6ea8d80c-3c74-403f-a78d-97450459f6f1",
   "metadata": {},
   "outputs": [],
   "source": [
    "data_importer = flexynesis.DataImporter(path ='./brca_metabric_processed/', \n",
    "                                       data_types = ['gex', 'cna'], \n",
    "                                        concatenate=False, min_features=1000, top_percentile=0.1)"
   ]
  },
  {
   "cell_type": "code",
   "execution_count": null,
   "id": "98d74fc7-b489-4e7e-bd9d-aabc9d0d70e4",
   "metadata": {},
   "outputs": [
    {
     "name": "stdout",
     "output_type": "stream",
     "text": [
      "importing  ./brca_metabric_processed/train/clin.csv\n",
      "importing  ./brca_metabric_processed/train/gex.csv\n",
      "importing  ./brca_metabric_processed/train/cna.csv\n",
      "importing  ./brca_metabric_processed/test/clin.csv\n",
      "importing  ./brca_metabric_processed/test/gex.csv\n",
      "importing  ./brca_metabric_processed/test/cna.csv\n",
      "Imputing NA values to median of features, affected # of features  12  # of rows: 9\n"
     ]
    },
    {
     "name": "stderr",
     "output_type": "stream",
     "text": [
      "100%|██████████| 9/9 [00:00<00:00, 1847.44it/s]"
     ]
    },
    {
     "name": "stdout",
     "output_type": "stream",
     "text": [
      "Number of NA values:  0\n",
      "DataFrame gex - Removed 0 features.\n"
     ]
    },
    {
     "name": "stderr",
     "output_type": "stream",
     "text": [
      "\n"
     ]
    },
    {
     "name": "stdout",
     "output_type": "stream",
     "text": [
      "Imputing NA values to median of features, affected # of features  208  # of rows: 162\n"
     ]
    },
    {
     "name": "stderr",
     "output_type": "stream",
     "text": [
      " 81%|████████▏ | 132/162 [00:09<00:02, 13.57it/s]"
     ]
    }
   ],
   "source": [
    "train_dataset, test_dataset = data_importer.import_data()"
   ]
  },
  {
   "cell_type": "code",
   "execution_count": null,
   "id": "2f2cffae-20ce-4382-a596-45734d0b9f1d",
   "metadata": {},
   "outputs": [],
   "source": [
    "train_dataset.ann.keys()"
   ]
  },
  {
   "cell_type": "code",
   "execution_count": null,
   "id": "867b93cc-ba64-456e-b6da-9035123ec7c5",
   "metadata": {},
   "outputs": [],
   "source": [
    "tuner = flexynesis.HyperparameterTuning(train_dataset, \n",
    "                                        model_class = flexynesis.DirectPred, \n",
    "                                        target_variables = \"CLAUDIN_SUBTYPE,CHEMOTHERAPY,THREEGENE\",\n",
    "                                        batch_variables = None,\n",
    "                                        config_name = \"DirectPred\", \n",
    "                                        config_path = './conf.yaml',\n",
    "                                        n_iter=10, plot_losses=True)    "
   ]
  },
  {
   "cell_type": "code",
   "execution_count": null,
   "id": "1bbe4c7d-4fa2-4e90-b6c7-e7d66614b544",
   "metadata": {},
   "outputs": [],
   "source": [
    "model, best_params = tuner.perform_tuning()\n",
    "best_params"
   ]
  },
  {
   "cell_type": "code",
   "execution_count": null,
   "id": "24c4bc13-7a85-402f-a0a0-8a7d153dfe75",
   "metadata": {},
   "outputs": [],
   "source": [
    "model"
   ]
  },
  {
   "cell_type": "code",
   "execution_count": null,
   "id": "97f37b27-ab0f-4dcb-8b91-609f091774b0",
   "metadata": {},
   "outputs": [],
   "source": [
    "y_pred_dict = model.predict(test_dataset)"
   ]
  },
  {
   "cell_type": "code",
   "execution_count": null,
   "id": "626579b3-0b52-43b3-9954-11c101ae2d62",
   "metadata": {},
   "outputs": [],
   "source": [
    "metrics_df = flexynesis.evaluate_wrapper(y_pred_dict, test_dataset)\n",
    "metrics_df"
   ]
  },
  {
   "cell_type": "code",
   "execution_count": null,
   "id": "8cc16b85-593f-4117-bd09-a23fc9f9061f",
   "metadata": {},
   "outputs": [],
   "source": [
    "for var in model.target_variables:\n",
    "    model.compute_feature_importance(var, steps = 30)"
   ]
  },
  {
   "cell_type": "code",
   "execution_count": null,
   "id": "53e1a732-960f-497a-8cfa-b58326ac3c50",
   "metadata": {},
   "outputs": [],
   "source": [
    "def get_important_features(model, var, top=20):\n",
    "    # Ensure that the variable exists in the model's feature importances\n",
    "    if var not in model.feature_importances:\n",
    "        print(f\"No feature importances found for variable: {var}\")\n",
    "        return None\n",
    "\n",
    "    # Fetch the dataframe for the specified variable\n",
    "    df_imp = model.feature_importances[var]\n",
    "\n",
    "    top_features = df_imp.groupby(['target_class']).apply(lambda x: x.nlargest(top, 'importance')).reset_index(drop=True)\n",
    "\n",
    "    return top_features\n"
   ]
  },
  {
   "cell_type": "code",
   "execution_count": null,
   "id": "776c6553-7306-40f3-94ab-0c14529d9ae8",
   "metadata": {},
   "outputs": [],
   "source": [
    "f = 'THREEGENE'\n",
    "top_features = get_important_features(model, f, top=5)"
   ]
  },
  {
   "cell_type": "code",
   "execution_count": null,
   "id": "a79437eb-c9fb-4e3f-9637-b5bee317cc2a",
   "metadata": {},
   "outputs": [],
   "source": [
    "ds = test_dataset\n",
    "E = model.transform(ds)"
   ]
  },
  {
   "cell_type": "code",
   "execution_count": null,
   "id": "aac22aeb-45b9-4fdf-a536-4173743d7992",
   "metadata": {},
   "outputs": [],
   "source": [
    "flexynesis.plot_dim_reduced(E, ds.ann[f].numpy(), color_type = 'categorical', method='umap')"
   ]
  },
  {
   "cell_type": "code",
   "execution_count": null,
   "id": "e1217755-6669-42ed-be46-caab46334828",
   "metadata": {},
   "outputs": [],
   "source": [
    "df = flexynesis.subset_assays_by_features(test_dataset, top_features.groupby('layer')['name'].apply(list).to_dict())"
   ]
  },
  {
   "cell_type": "code",
   "execution_count": null,
   "id": "96416366-9d64-412c-8f68-6352f11852af",
   "metadata": {},
   "outputs": [],
   "source": [
    "top_features"
   ]
  },
  {
   "cell_type": "code",
   "execution_count": null,
   "id": "8465fa5c-2c55-4867-9a2e-7bb79d7ebee7",
   "metadata": {},
   "outputs": [],
   "source": [
    "df"
   ]
  },
  {
   "cell_type": "code",
   "execution_count": null,
   "id": "57850b40-cbb2-4c0a-be7a-55a9048f092a",
   "metadata": {},
   "outputs": [],
   "source": [
    "flexynesis.plot_dim_reduced(df, ds.ann[f].numpy(), color_type = 'categorical', method='umap')"
   ]
  },
  {
   "cell_type": "code",
   "execution_count": null,
   "id": "69197d6a-ed62-451e-9b05-bca679d0e5ae",
   "metadata": {},
   "outputs": [],
   "source": []
  }
 ],
 "metadata": {
  "kernelspec": {
   "display_name": "flexynesis",
   "language": "python",
   "name": "flexynesis"
  },
  "language_info": {
   "codemirror_mode": {
    "name": "ipython",
    "version": 3
   },
   "file_extension": ".py",
   "mimetype": "text/x-python",
   "name": "python",
   "nbconvert_exporter": "python",
   "pygments_lexer": "ipython3",
   "version": "3.9.16"
  }
 },
 "nbformat": 4,
 "nbformat_minor": 5
}
