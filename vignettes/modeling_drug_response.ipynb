{
 "cells": [
  {
   "cell_type": "code",
   "execution_count": 1,
   "id": "e5989ac0-ccbb-4aca-b798-375b583a91f1",
   "metadata": {},
   "outputs": [],
   "source": [
    "import flexynesis \n",
    "import torch\n",
    "torch.set_num_threads(12)"
   ]
  },
  {
   "cell_type": "markdown",
   "id": "9009d0c2-f761-4a11-8610-6012987bda64",
   "metadata": {},
   "source": [
    "# Modeling Drug Response Using Publicly Available Pharmocogenomics Datasets"
   ]
  },
  {
   "cell_type": "markdown",
   "id": "4e2cc903-70aa-4389-a72f-b790aa208c5f",
   "metadata": {},
   "source": [
    "We build models using CCLE data and make predictions on GDSC data. "
   ]
  },
  {
   "cell_type": "markdown",
   "id": "d6321290-56ae-406d-ad56-0e251f8b1778",
   "metadata": {},
   "source": [
    "# Download Data"
   ]
  },
  {
   "cell_type": "code",
   "execution_count": 2,
   "id": "6732426b-011a-4223-a772-1556c4a22986",
   "metadata": {},
   "outputs": [
    {
     "name": "stdout",
     "output_type": "stream",
     "text": [
      "--2023-09-18 14:37:18--  https://bimsbstatic.mdc-berlin.de/akalin/buyar/flexynesis-benchmark-datasets/dataset1.tgz\n",
      "Resolving bimsbstatic.mdc-berlin.de (bimsbstatic.mdc-berlin.de)... 141.80.181.47, 141.80.181.46\n",
      "Connecting to bimsbstatic.mdc-berlin.de (bimsbstatic.mdc-berlin.de)|141.80.181.47|:443... connected.\n",
      "HTTP request sent, awaiting response... 200 OK\n",
      "Length: 55132132 (53M) [application/octet-stream]\n",
      "Saving to: ‘ccle_gdsc.tgz’\n",
      "\n",
      "100%[======================================>] 55,132,132  35.6MB/s   in 1.5s   \n",
      "\n",
      "2023-09-18 14:37:19 (35.6 MB/s) - ‘ccle_gdsc.tgz’ saved [55132132/55132132]\n",
      "\n",
      "dataset1/\n",
      "dataset1/train/\n",
      "dataset1/train/clin.csv\n",
      "dataset1/train/cnv.csv\n",
      "dataset1/train/gex.csv\n",
      "dataset1/test/\n",
      "dataset1/test/gex.csv\n",
      "dataset1/test/cnv.csv\n",
      "dataset1/test/clin.csv\n"
     ]
    }
   ],
   "source": [
    "!wget -O ccle_gdsc.tgz \"https://bimsbstatic.mdc-berlin.de/akalin/buyar/flexynesis-benchmark-datasets/dataset1.tgz\" && tar -xzvf ccle_gdsc.tgz"
   ]
  },
  {
   "cell_type": "markdown",
   "id": "ccfda8dd-92fa-4edc-b1a4-60dd2cdd28b5",
   "metadata": {},
   "source": [
    "## Define Data Importer "
   ]
  },
  {
   "cell_type": "code",
   "execution_count": 3,
   "id": "93c1981a-f509-4fe8-af22-e95d282c8772",
   "metadata": {},
   "outputs": [],
   "source": [
    "data_importer = flexynesis.DataImporter(path ='./dataset1/', \n",
    "                                       data_types = ['gex', 'cnv'], log_transform=False, concatenate=False, min_features=1000, top_percentile=0.2)"
   ]
  },
  {
   "cell_type": "code",
   "execution_count": 4,
   "id": "cb24bc50-6417-4692-baaa-5effc47ceebe",
   "metadata": {},
   "outputs": [
    {
     "name": "stdout",
     "output_type": "stream",
     "text": [
      "importing  ./dataset1/train/clin.csv\n",
      "importing  ./dataset1/train/cnv.csv\n",
      "importing  ./dataset1/train/gex.csv\n",
      "importing  ./dataset1/test/gex.csv\n",
      "importing  ./dataset1/test/cnv.csv\n",
      "importing  ./dataset1/test/clin.csv\n",
      "Number of NA values:  0\n",
      "DataFrame gex - Removed 0 features.\n",
      "Number of NA values:  0\n",
      "DataFrame cnv - Removed 0 features.\n",
      "DataFrame gex - Removed 0 samples (0.00%).\n",
      "DataFrame cnv - Removed 0 samples (0.00%).\n",
      "Implementing feature selection using laplacian score for layer: gex with  3422 features\n"
     ]
    },
    {
     "name": "stderr",
     "output_type": "stream",
     "text": [
      "Calculating Laplacian scores: 100%|██████████| 3422/3422 [00:00<00:00, 19603.62it/s]\n",
      "Removing redundant features among top scoring ones: 100%|██████████| 1342/1342 [00:00<00:00, 1901.18it/s]"
     ]
    },
    {
     "name": "stdout",
     "output_type": "stream",
     "text": [
      "Implementing feature selection using laplacian score for layer: cnv with  157 features\n",
      "Returning original matrix, demanded # of features is  larger than existing number of features\n",
      "Number of NA values:  0\n",
      "DataFrame gex - Removed 0 features.\n",
      "Number of NA values:  0\n",
      "DataFrame cnv - Removed 0 features.\n",
      "DataFrame gex - Removed 0 samples (0.00%).\n",
      "DataFrame cnv - Removed 0 samples (0.00%).\n",
      "Harmonizing features between train and test\n",
      "normalizing data\n",
      "normalizing data\n"
     ]
    },
    {
     "name": "stderr",
     "output_type": "stream",
     "text": [
      "\n"
     ]
    }
   ],
   "source": [
    "train_dataset, test_dataset = data_importer.import_data()"
   ]
  },
  {
   "cell_type": "code",
   "execution_count": 6,
   "id": "66a311c8-a7f2-4073-91b6-52f3ba116344",
   "metadata": {},
   "outputs": [],
   "source": [
    "tuner = flexynesis.HyperparameterTuning(train_dataset, \n",
    "                                        model_class = flexynesis.supervised_vae, \n",
    "                                        target_variables = \"Erlotinib\",\n",
    "                                        batch_variables = None,\n",
    "                                        config_name = \"SVAE\", \n",
    "                                        n_iter=5)    "
   ]
  },
  {
   "cell_type": "code",
   "execution_count": null,
   "id": "88735f45-1a02-4d01-9318-ffb22d0c2302",
   "metadata": {},
   "outputs": [
    {
     "data": {
      "text/html": [
       "<pre style=\"white-space:pre;overflow-x:auto;line-height:normal;font-family:Menlo,'DejaVu Sans Mono',consolas,'Courier New',monospace\">Epoch 48/49 <span style=\"color: #800000; text-decoration-color: #800000\">━━━━━━━━━━━━━━━━━━━━━━━━━━━━━━━━━━</span> <span style=\"color: #c0c0c0; text-decoration-color: #c0c0c0\">7/7</span> 0:00:00 • 0:00:00 <span style=\"color: #b2b2b2; text-decoration-color: #b2b2b2\">39.29it/s</span> <span style=\"color: #808000; text-decoration-color: #808000\">v_num: 20 val_loss: 0.763 mmd_loss: </span>\n",
       "                                                                               <span style=\"color: #808000; text-decoration-color: #808000\">0.706 Erlotinib: 0.002 train_loss:  </span>\n",
       "                                                                               <span style=\"color: #808000; text-decoration-color: #808000\">0.706                               </span>\n",
       "</pre>\n"
      ],
      "text/plain": [
       "Epoch 48/49 \u001b[31m━━━━━━━━━━━━━━━━━━━━━━━━━━━━━━━━━━\u001b[0m \u001b[37m7/7\u001b[0m 0:00:00 • 0:00:00 \u001b[38;5;249m39.29it/s\u001b[0m \u001b[33mv_num: 20 val_loss: 0.763 mmd_loss: \u001b[0m\n",
       "                                                                               \u001b[33m0.706 Erlotinib: 0.002 train_loss:  \u001b[0m\n",
       "                                                                               \u001b[33m0.706                               \u001b[0m\n"
      ]
     },
     "metadata": {},
     "output_type": "display_data"
    }
   ],
   "source": [
    "model, best_params = tuner.perform_tuning()"
   ]
  },
  {
   "cell_type": "code",
   "execution_count": 9,
   "id": "7c8bf214-f0e1-474d-9f1c-13b07a6c67a1",
   "metadata": {},
   "outputs": [],
   "source": [
    "y_pred_dict = model.predict(test_dataset)"
   ]
  },
  {
   "cell_type": "code",
   "execution_count": 10,
   "id": "23d1c4c2-7d14-4747-b526-cf20d1946cdc",
   "metadata": {},
   "outputs": [],
   "source": [
    "metrics_df = flexynesis.evaluate_wrapper(y_pred_dict, test_dataset)"
   ]
  },
  {
   "cell_type": "code",
   "execution_count": 13,
   "id": "b4deb035-af99-45f9-9bc4-bcaf15369ce5",
   "metadata": {},
   "outputs": [],
   "source": [
    "import pandas as pd \n",
    "df_list = []\n",
    "for var in model.target_variables:\n",
    "    df_list.append(model.compute_feature_importance(var, steps = 20))\n",
    "df_imp = pd.concat(df_list, ignore_index = True)"
   ]
  },
  {
   "cell_type": "code",
   "execution_count": 14,
   "id": "d5eecab8-1384-40fe-aaf5-051caf387594",
   "metadata": {},
   "outputs": [
    {
     "data": {
      "text/plain": [
       "166      ANXA3\n",
       "140     AMOTL2\n",
       "132     ALS2CL\n",
       "88       AFTPH\n",
       "3        AADAT\n",
       "176     ARFIP2\n",
       "146    ANGPTL4\n",
       "251      MFAP3\n",
       "268     PARP11\n",
       "67     ADAMTS5\n",
       "Name: name, dtype: object"
      ]
     },
     "execution_count": 14,
     "metadata": {},
     "output_type": "execute_result"
    }
   ],
   "source": [
    "df_imp.sort_values(by = 'importance', ascending=False).head(10).name"
   ]
  },
  {
   "cell_type": "code",
   "execution_count": null,
   "id": "20c6c66c-ba2f-41e0-b831-0d7de315d875",
   "metadata": {},
   "outputs": [],
   "source": []
  }
 ],
 "metadata": {
  "kernelspec": {
   "display_name": "flexynesis",
   "language": "python",
   "name": "flexynesis"
  },
  "language_info": {
   "codemirror_mode": {
    "name": "ipython",
    "version": 3
   },
   "file_extension": ".py",
   "mimetype": "text/x-python",
   "name": "python",
   "nbconvert_exporter": "python",
   "pygments_lexer": "ipython3",
   "version": "3.9.16"
  }
 },
 "nbformat": 4,
 "nbformat_minor": 5
}
